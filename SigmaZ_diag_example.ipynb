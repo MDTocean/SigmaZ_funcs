{
 "cells": [
  {
   "cell_type": "code",
   "execution_count": null,
   "id": "cce5c4ff-ea2c-4b24-86de-16830b20e6a0",
   "metadata": {},
   "outputs": [],
   "source": [
    "### In this example script, I use the SigmaZ routines to calculate various AMOC, and transport\n",
    "### diagnostics in models. This example shows a calculation along the OSNAP observational array \n",
    "### cross-section. Various commented-out sections show how to use the tools with different models.\n",
    "### The package accepts and outputs xarray datafiles by defauly, but a numpy_algo flag is provided \n",
    "### in case numpy input data is being used  or if it is preferred (set numpy_algo=True in the examples\n",
    "### below to see how it works). If mom_gridwidth_algo=True then the standard mom gridwidth \n",
    "### variables will be used to calculate along-section distance, otherwise it will be calculated offline\n",
    "### from the section lat-lon information. \n",
    "###\n",
    "### This example shows a calculation along the OSNAP section using model data, before then using the same\n",
    "### tools to calculate the same diagnostics on the gridded observational output from the OSNAP array. \n",
    "### \n",
    "### The diagnostics use Raphael Dussin's sectionate tool, which outputs a model cross-section along any \n",
    "### chosen coordinate set, be they even or uneven. The diagnostics can then be used to calculate:\n",
    "### - a SigmaZ diagram\n",
    "### - Overturning streamfunction, maxAMOC timeseries and spectra\n",
    "### - Heat and Freshwater transports, including their MOC and gyre contributions\n",
    "### - cross-sections of velocity, T, S, and rho, with the maxAMOC streamline overlaid"
   ]
  },
  {
   "cell_type": "markdown",
   "id": "3b04f84b-25f0-40ac-a738-95cb711f0d9b",
   "metadata": {},
   "source": [
    "# First apply the SigmaZ routines to model data:"
   ]
  },
  {
   "cell_type": "code",
   "execution_count": null,
   "id": "66b52b65-1af0-4930-8130-d9d9cbe751a5",
   "metadata": {},
   "outputs": [],
   "source": [
    "%matplotlib inline\n",
    "import sys\n",
    "sys.path.insert(0, '/home/Matthew.Thomas/python_code/python_pkgs/SigmaZ_diag/SigmaZ_diag')\n",
    "import xarray as xr\n",
    "import numpy as np\n",
    "import matplotlib.pyplot as plt\n",
    "from matplotlib import gridspec\n",
    "import cartopy.crs as ccrs\n",
    "from numba import njit\n",
    "import sectionate\n",
    "from glob import glob\n",
    "import momlevel\n",
    "import SigmaZ_funcs\n",
    "from xhistogram.xarray import histogram\n",
    "import xrft"
   ]
  },
  {
   "cell_type": "markdown",
   "id": "2019df47-81e5-4681-bc7b-e49ea21c3b8d",
   "metadata": {},
   "source": [
    "### Here are various examples of code for reading in different model run data. Uncomment a cell to select that model"
   ]
  },
  {
   "cell_type": "code",
   "execution_count": null,
   "id": "422ab32c-d949-4438-b447-7b3a7229fd97",
   "metadata": {},
   "outputs": [],
   "source": [
    "### Uncomment this to work with the CM4 hires (p125) config\n",
    "dir_vars=\"/archive/Raphael.Dussin/FMS2019.01.03_devgfdl_20210706/CM4_piControl_c192_OM4p125_v7/gfdl.ncrc4-intel18-prod-openmp/pp/ocean_month_z/ts/monthly/5yr/\"\n",
    "dir_grid=\"/archive/Raphael.Dussin/FMS2019.01.03_devgfdl_20210706/CM4_piControl_c192_OM4p125_v7/gfdl.ncrc4-intel18-prod-openmp/pp/ocean_month_z/ocean_month_z.static.nc\"\n",
    "file_str_identifier=\"*.0171*\"  # Examples: *.0196* for that year stamp; \"*.0[1-2]*\" for years 100-299; \n",
    "section_node_lats=[60.3000, 58.8600, 58.0500, 58.0000, 56.5000] ### OSNAP East section\n",
    "section_node_lons=[-44.9000, -30.5400, -28.0000, -14.7000, -5.9300] ### OSNAP East section\n",
    "# section_node_lats=[52.0166, 52.6648, 53.5577, 58.8944, 60.4000]  ### OSNAP West section\n",
    "# section_node_lons=[-56.8775, -52.0956, -49.8604, -47.6107, -44.8000]  ### OSNAP West section\n",
    "z_layer_var=\"z_l\"\n",
    "numpy_algo=False\n",
    "mom_gridwidth_algo=True\n",
    "dmgetout=False\n",
    "dsT, transp, rho, xsec, ysec, cell_area, so, thetao, section_gridwidth, grid = SigmaZ_funcs.SigmaZ_diag_ReadData(dir_vars,dir_grid,section_node_lons,section_node_lats,file_str_identifier,mom_gridwidth_algo=mom_gridwidth_algo,dmgetout=dmgetout)\n",
    "plt.pcolormesh(grid.geolon_c,grid.geolat_c,grid.deptho)\n",
    "plt.plot(xsec,ysec,color=\"k\")"
   ]
  },
  {
   "cell_type": "code",
   "execution_count": null,
   "id": "f9c4e5f7-f237-4924-9665-5baf637ece9a",
   "metadata": {},
   "outputs": [],
   "source": [
    "# # ### Uncomment this to work with the CM4 p25 config\n",
    "# dir_vars=\"/archive/Raphael.Dussin/FMS2019.01.03_devgfdl_20221223/CM4_piControl_c192_OM4p25_v8/gfdl.ncrc4-intel18-prod-openmp/pp/ocean_monthly_z/ts/monthly/5yr/\"\n",
    "# dir_grid=\"/archive/Raphael.Dussin/FMS2019.01.03_devgfdl_20221223/CM4_piControl_c192_OM4p25_v8/gfdl.ncrc4-intel18-prod-openmp/pp/ocean_monthly_z/ocean_monthly_z.static.nc\"\n",
    "# file_str_identifier=\"*.01[7-8]*\" # Examples: *.0196* for that year stamp; \"*.0[1-2]*\" for years 100-299; \n",
    "# z_layer_var=\"z_l\"\n",
    "# z_inter_var=\"z_l\"\n",
    "# # section_node_lats=[60.3000, 58.8600, 58.0500, 58.0000, 56.5000] ### OSNAP East section\n",
    "# # section_node_lons=[-44.9000, -30.5400, -28.0000, -14.7000, -5.9300] ### OSNAP East section\n",
    "# section_node_lats=[52.0166, 52.6648, 53.5577, 58.8944, 60.4000]  ### OSNAP West section\n",
    "# section_node_lons=[-56.8775, -52.0956, -49.8604, -47.6107, -44.8000]  ### OSNAP West section\n",
    "# numpy_algo=False\n",
    "# mom_gridwidth_algo=True\n",
    "# dmgetout=False\n",
    "# dsT, transp, rho, xsec, ysec, cell_area, so, thetao, section_gridwidth, grid = SigmaZ_funcs.SigmaZ_diag_ReadData(dir_vars,dir_grid,section_node_lons,section_node_lats,file_str_identifier,mom_gridwidth_algo=mom_gridwidth_algo,dmgetout=dmgetout)\n",
    "# plt.pcolormesh(grid.geolon_c,grid.geolat_c,grid.deptho)\n",
    "# plt.plot(xsec,ysec,color=\"k\")"
   ]
  },
  {
   "cell_type": "code",
   "execution_count": null,
   "id": "84fa69b0-d637-47e5-914c-cc6cedbe3f6d",
   "metadata": {},
   "outputs": [],
   "source": [
    "# # # ### Uncomment this to work with Tony Rosati's DA run data instead\n",
    "# dir_vars=\"/archive/Feiyu.Lu/SPEAR/SPEAR_c96_o1_ECDA_J11/pp_ensemble/ocean_z/ts/monthly/30yr/\"\n",
    "# dir_grid=\"/archive/Feiyu.Lu/SPEAR/SPEAR_c96_o1_ECDA_J11/pp_ensemble/ocean_z/ocean_z.static.nc\"\n",
    "# file_str_identifier=\"*\" \n",
    "# z_layer_var=\"z_l\"\n",
    "# # section_node_lats=[60.3000, 58.8600, 58.0500, 58.0000, 56.5000] ### OSNAP East section\n",
    "# # section_node_lons=[-43.9000, -30.5400, -28.0000, -14.7000, -4.000] ### OSNAP East section\n",
    "# section_node_lats=[52.0166, 52.6648, 53.5577, 58.8944, 60.5000]  ### OSNAP West section\n",
    "# section_node_lons=[-56.8775, -52.0956, -49.8604, -47.6107, -43]  ### OSNAP West section\n",
    "# time_limits=['2014','2020']\n",
    "# numpy_algo=False\n",
    "# mom_gridwidth_algo=False\n",
    "# dmgetout=False\n",
    "# dsT, transp, rho, xsec, ysec, cell_area, so, thetao, section_gridwidth, grid = SigmaZ_funcs.SigmaZ_diag_ReadData(dir_vars,dir_grid,section_node_lons,section_node_lats,file_str_identifier,mom_gridwidth_algo=mom_gridwidth_algo,dmgetout=dmgetout)\n",
    "# plt.pcolormesh(grid.geolon_c,grid.geolat_c,grid.deptho)\n",
    "# plt.plot(xsec,ysec,color=\"k\")"
   ]
  },
  {
   "cell_type": "code",
   "execution_count": null,
   "id": "94d65a33-7ef9-46f6-b738-57abd208192c",
   "metadata": {},
   "outputs": [],
   "source": [
    "# ### Uncomment this to work with Rong Zhang's RDC run \n",
    "# dir_vars=\"/archive/roz/cm2.hi/CM2.hi_Control_1990_E01_rs_wind_cars_woa_newtopog/gfdl.ncrc3-intel15-prod/pp/ocean/ts/monthly/5yr/\"\n",
    "# dir_grid=\"/archive/roz/cm2.hi/CM2.hi_Control_1990_E01_rs_wind_cars_woa_newtopog/gfdl.ncrc3-intel15-prod/pp/ocean/ocean.static.nc\"\n",
    "# file_str_identifier=\"*.0076*\" \n",
    "# # section_node_lats=[60.5, 58.8600, 58.0500, 58.0000, 56.5000] ### OSNAP East section\n",
    "# # section_node_lons=[-44, -30.5400, -28.0000, -14.7000, -3] ### OSNAP East section\n",
    "# section_node_lats=[52.0166, 52.6648, 53.5577, 58.8944, 60.5000]  ### OSNAP West section\n",
    "# section_node_lons=[-56.8775, -52.0956, -49.8604, -47.6107, -43]  ### OSNAP West section\n",
    "# numpy_algo=False\n",
    "# mom_gridwidth_algo=False\n",
    "# dmgetout=False\n",
    "# dsT, transp, rho, xsec, ysec, cell_area, so, thetao, section_gridwidth, grid = SigmaZ_funcs.SigmaZ_diag_ReadData(dir_vars,dir_grid,section_node_lons,section_node_lats,file_str_identifier,mom_gridwidth_algo=mom_gridwidth_algo,dmgetout=dmgetout,z_layer_var=\"st_ocean\",z_inter_var=\"st_edges_ocean\",u_transport_var=\"tx_trans\",v_transport_var=\"ty_trans\",theta_var=\"temp\",salt_var=\"salt\",x_hpoint_1Dvar=\"xt_ocean\",x_qpoint_1Dvar=\"xu_ocean\",y_hpoint_1Dvar=\"yt_ocean\",y_qpoint_1Dvar=\"yu_ocean\",lons_tpoint=\"geolon_t\",lats_tpoint=\"geolat_t\",lons_cpoint=\"geolon_c\",lats_cpoint=\"geolat_c\")\n",
    "# transp=transp*1030*1e6\n",
    "# plt.pcolormesh(grid.geolon_c,grid.geolat_c,grid.kmt)\n",
    "# plt.plot(xsec,ysec,color=\"k\")"
   ]
  },
  {
   "cell_type": "code",
   "execution_count": null,
   "id": "9beaba5b-3375-430b-88e3-5cebb0c98496",
   "metadata": {},
   "outputs": [],
   "source": [
    "# ### Uncomment this to work with the CM4 pi CMIP6 contribution\n",
    "# dir_vars=\"/archive/oar.gfdl.cmip6/CM4/warsaw_201710_om4_v1.0.1/CM4_piControl_C/gfdl.ncrc4-intel16-prod-openmp/pp/ocean_monthly_z/ts/monthly/5yr/\"\n",
    "# dir_grid=\"/archive/oar.gfdl.cmip6/CM4/warsaw_201710_om4_v1.0.1/CM4_piControl_C/gfdl.ncrc4-intel16-prod-openmp/pp/ocean_monthly_z/ocean_monthly_z.static.nc\"\n",
    "# z_layer_var=\"z_l\"\n",
    "# z_inter_var=\"z_i\"\n",
    "# file_str_identifier=\"*01[7-8]*\"  # Examples: *.0196* for that year stamp; \"*.0[1-2]*\" for years 100-299; \n",
    "# # section_node_lats=[60.3000, 58.8600, 58.0500, 58.0000, 56.5000] ### OSNAP East section\n",
    "# # section_node_lons=[-44.9000, -30.5400, -28.0000, -14.7000, -5.0300] ### OSNAP East section\n",
    "# section_node_lats=[52.0166, 52.6648, 53.5577, 58.8944, 60.5000]  ### OSNAP West section\n",
    "# section_node_lons=[-56.8775, -52.0956, -49.8604, -47.6107, -43]  ### OSNAP West section\n",
    "# numpy_algo=False\n",
    "# mom_gridwidth_algo=False\n",
    "# dmgetout=False\n",
    "# dsT, transp, rho, xsec, ysec, cell_area, so, thetao, section_gridwidth, grid = SigmaZ_funcs.SigmaZ_diag_ReadData(dir_vars,dir_grid,section_node_lons,section_node_lats,file_str_identifier,mom_gridwidth_algo=mom_gridwidth_algo,dmgetout=dmgetout)\n",
    "# plt.pcolormesh(grid.geolon_c,grid.geolat_c,grid.deptho)\n",
    "# plt.plot(xsec,ysec,color=\"k\")"
   ]
  },
  {
   "cell_type": "markdown",
   "id": "9dd65759-6af0-4621-8134-95f6789aec4b",
   "metadata": {},
   "source": [
    "### Now calculate SigmaZ diagrams and make some plots "
   ]
  },
  {
   "cell_type": "code",
   "execution_count": null,
   "id": "5a1111bb-4ce1-4cc5-936f-5ce3ec4a960c",
   "metadata": {},
   "outputs": [],
   "source": [
    "### Set a few variables. \n",
    "rholims=[21,28.1]; # Density range for the rebinning into the SigmaZ diagram\n",
    "nrho=500;  # number of density bins between the two rholims\n",
    "rebin_depth=np.arange(100,6600,100) # regularly spaced rebinned z-layers for the SigmaZ diagram\n",
    "depth=dsT[z_layer_var]"
   ]
  },
  {
   "cell_type": "code",
   "execution_count": null,
   "id": "5805beba-f45f-4f10-8d47-2e697f47770d",
   "metadata": {},
   "outputs": [],
   "source": [
    "%%time\n",
    "### Load data into memory. This can be commented out, but it makes things faster when this output is used in multiple different operations \n",
    "### If numpy_algo is True then the values need to be output, and cell_area needs to be expanded if mom_gridwidth_algo is True \n",
    "if numpy_algo:\n",
    "    ### convert xarray output to numpy values (Ensure that matrix dimensions are (time,depth,dist))\n",
    "    transp=transp.values\n",
    "    rho=rho.values\n",
    "    cell_area=np.repeat(np.expand_dims(cell_area.values,axis=0),np.shape(dsT.time)[0],axis=0)\n",
    "    cell_area[np.isnan(cell_area)]=0\n",
    "    depth=depth.values\n",
    "    if len(so)>0: so=so.values\n",
    "    if len(thetao)>0: thetao=thetao.values\n",
    "else:\n",
    "    transp=transp.load()\n",
    "    rho=rho.load()\n",
    "    cell_area=cell_area.load()\n",
    "    if len(so)>0: so=so.load()\n",
    "    if len(thetao)>0: thetao=thetao.load()"
   ]
  },
  {
   "cell_type": "code",
   "execution_count": null,
   "id": "45b7f7c9-1299-45cf-95f8-0af96df3a36a",
   "metadata": {},
   "outputs": [],
   "source": [
    "ty_z_rho, ty_z_rho_rebin, rho0_bounds, rho0_ref = SigmaZ_funcs.SigmaZ_diag_ComputeDiag(transp,rho,rholims,depth,rebin_depth,nrho,numpy_algo=numpy_algo,z_layer_var=z_layer_var)"
   ]
  },
  {
   "cell_type": "code",
   "execution_count": null,
   "id": "d65f7c0a-3bdc-43d6-9a5e-a9e628437b66",
   "metadata": {},
   "outputs": [],
   "source": [
    "AMOCz, AMOCrho, ty_z, ty_rho, AMOCz_ts, AMOCrho_ts = SigmaZ_funcs.SigmaZ_diag_PlotDiag(ty_z_rho_rebin,rebin_depth,rho0_ref,rho0_bounds,numpy_algo=numpy_algo)"
   ]
  },
  {
   "cell_type": "code",
   "execution_count": null,
   "id": "342ca588-3a56-49ce-807d-17320ae27803",
   "metadata": {},
   "outputs": [],
   "source": [
    "%%time\n",
    "if len(thetao)>0:\n",
    "    MOCsig_MHTMFT, MOCz_MHTMFT, MOCsigz_MHTMFT = SigmaZ_funcs.SigmaZ_diag_computeMFTMHT(transp,so,thetao,rho,cell_area,rho0_bounds,depth,rebin_depth=rebin_depth,rho_dim='rho_bin',z_dim=z_layer_var,annual_mean_flag=False,plot_flag=True)"
   ]
  },
  {
   "cell_type": "code",
   "execution_count": null,
   "id": "3eba2abf-7b4a-4e08-bd72-3984fb8c3330",
   "metadata": {
    "tags": []
   },
   "outputs": [],
   "source": [
    "3850*MOCsigz_MHTMFT.Vthetao_z_rho.mean(axis=0).sum()"
   ]
  },
  {
   "cell_type": "code",
   "execution_count": null,
   "id": "e71f0459-1d51-4877-8e1d-e19023a7333e",
   "metadata": {
    "tags": []
   },
   "outputs": [],
   "source": [
    "### Here is an example showing that you can plot a SigmaZ plot of Heat transport. \n",
    "### The equivalent plot for freshwater transport is done the same way -- change MHT to MFT and Vthetao_z_rho to Vso_z_rho (and some unit conversions)\n",
    "spec = gridspec.GridSpec(ncols=2, nrows=2,\n",
    "                         width_ratios=[1,2], wspace=0.3,\n",
    "                         hspace=0.3, height_ratios=[1, 2])\n",
    "Cp=3850\n",
    "fig = plt.figure(figsize=(10,8))\n",
    "ax0 = fig.add_subplot(spec[3])\n",
    "ch1=ax0.pcolormesh(rho0_bounds[0:-1],-rebin_depth,Cp*MOCsigz_MHTMFT.Vthetao_z_rho.mean(axis=0)/1e15,cmap='RdBu_r')\n",
    "ax0.set_title('Xsec heat transp. in Sigma-Z')\n",
    "ax0.set_xlabel('Sigma (kg/m3)')\n",
    "plt.xlim([26.5,28]), plt.ylim( [-4000,0] )\n",
    "box = ax0.get_position()\n",
    "ax0.set_position([box.x0*1, box.y0, box.width, box.height])\n",
    "axColor = plt.axes([box.x0*1 + box.width * 1.05, box.y0, 0.01, box.height])\n",
    "plt.colorbar(ch1, cax = axColor, orientation=\"vertical\")\n",
    "ax1 = fig.add_subplot(spec[1])\n",
    "ax1.plot(rho0_ref,MOCsig_MHTMFT.MHT_zonmean_rho.mean(axis=0)/1e15,label='TOTrho')\n",
    "ax1.plot(rho0_ref,MOCsig_MHTMFT.MHT_MOCrho.mean(axis=0)/1e15,label='MOCrho')\n",
    "ax1.plot(rho0_ref,MOCsig_MHTMFT.MHT_GYRErho.mean(axis=0)/1e15,label='GYRErho')\n",
    "ax1.legend(loc='lower left')\n",
    "ax1.set_title('Xsec heat transp. in Sigma')\n",
    "ax1.set_ylabel('MHT (PW)')\n",
    "plt.xlim([26.5,28]), #plt.ylim( [-2,2] )\n",
    "ax2 = fig.add_subplot(spec[2])\n",
    "ax2.plot(MOCz_MHTMFT.MHT_zonmean_z.mean(axis=0)/1e15,-rebin_depth)\n",
    "ax2.plot(MOCz_MHTMFT.MHT_MOCz.mean(axis=0)/1e15,-rebin_depth)\n",
    "ax2.plot(MOCz_MHTMFT.MHT_GYREz.mean(axis=0)/1e15,-rebin_depth)\n",
    "ax2.set_title('Xsec heat transp. in Z')\n",
    "ax2.set_xlabel('MHT (PW)')\n",
    "ax2.set_ylabel('z (m)')    \n",
    "plt.ylim([-4000,0]), #plt.xlim([-2,2]),"
   ]
  },
  {
   "cell_type": "code",
   "execution_count": null,
   "id": "c2d5cce5-f8a4-476c-a45e-ed0f56953521",
   "metadata": {},
   "outputs": [],
   "source": [
    "### Plot the property cross-sections. \n",
    "fig = plt.figure(figsize=(10,12))\n",
    "ax = fig.add_subplot(4,1,1)\n",
    "if numpy_algo: cell_area=cell_area[0,:,:]\n",
    "blah=ax.contourf(np.cumsum(section_gridwidth),-dsT[z_layer_var],transp.mean(axis=0)/cell_area/1035,levels=np.linspace(-.3,.3,num=31),extend='both',cmap='RdBu_r')\n",
    "plt.colorbar(blah)\n",
    "ax.set_title('velocity across section')\n",
    "ax.set_ylabel('Depth (m)')\n",
    "plt.ylim([-4000,0])\n",
    "ax = fig.add_subplot(4,1,2)\n",
    "vlah=ax.contourf(np.cumsum(section_gridwidth),-dsT[z_layer_var],rho.mean(axis=0),levels=np.linspace(26,28,num=41))\n",
    "if numpy_algo==False: maxAMOC_contour=ax.contour(np.cumsum(section_gridwidth),-dsT[z_layer_var],rho.mean(axis=0),levels=[AMOCrho.mean('time').idxmax('rho_bin')],colors=[\"red\"])\n",
    "plt.colorbar(vlah)\n",
    "ax.set_title('Density along section)')\n",
    "ax.set_ylabel('Depth (m)')\n",
    "plt.ylim([-4000,0])\n",
    "if len(thetao)>0:\n",
    "    ax = fig.add_subplot(4,1,3)\n",
    "    blah=ax.contourf(np.cumsum(section_gridwidth),-dsT[z_layer_var],thetao.mean(axis=0),levels=np.linspace(-1,12,num=27))\n",
    "    plt.colorbar(blah)\n",
    "    ax.set_title('Temperature along section')\n",
    "    ax.set_ylabel('Depth (m)')\n",
    "    plt.ylim([-4000,0])\n",
    "if len(so)>0:\n",
    "    ax = fig.add_subplot(4,1,4)\n",
    "    blah=ax.contourf(np.cumsum(section_gridwidth),-dsT[z_layer_var],so.mean(axis=0),levels=np.linspace(34,35.5,num=31),extend='both')\n",
    "    plt.colorbar(blah)\n",
    "    ax.set_title('Salinity along section')\n",
    "    ax.set_ylabel('Depth (m)')\n",
    "    ax.set_xlabel('Distance')\n",
    "    plt.ylim([-4000,0])"
   ]
  },
  {
   "cell_type": "code",
   "execution_count": null,
   "id": "b6293f9f-e334-4692-b1fe-2060d594cafa",
   "metadata": {},
   "outputs": [],
   "source": [
    "### Plot power spectral density of MOCrho\n",
    "if numpy_algo==False:\n",
    "    time_reg=np.arange(0,len(AMOCrho_ts.time))*30.417 # xrft doesn't work on irregularly-spaced coordinates, so we have to make a approximation for time that is regular\n",
    "    AMOCrho_ts['time']=time_reg\n",
    "    MOCrho_psd=xrft.xrft.power_spectrum(AMOCrho_ts/1030/1e6,detrend='linear')\n",
    "    wavenumber_cutoff=800 # days\n",
    "    plt.plot(1/MOCrho_psd.where(MOCrho_psd.freq_time>1/wavenumber_cutoff).freq_time,MOCrho_psd.where(MOCrho_psd.freq_time>1/wavenumber_cutoff))\n",
    "    plt.xlabel('wavenumber period (days)')\n",
    "    plt.ylabel('PSD')\n",
    "    plt.title('MOC spectral density across section')"
   ]
  },
  {
   "cell_type": "markdown",
   "id": "e58fa6c8-13e4-44cd-8029-13c445922753",
   "metadata": {},
   "source": [
    "# Now use the same functions on the OSNAP observational data:"
   ]
  },
  {
   "cell_type": "code",
   "execution_count": null,
   "id": "2e49cf7e-9733-4ea5-a555-f70daeb5aad0",
   "metadata": {},
   "outputs": [],
   "source": [
    "### Read in OSNAP Data:\n",
    "ds_OSNAP = xr.open_dataset(\"/home/Matthew.Thomas/work/OSNAP/OSNAP_Gridded_TSV_201408_201805_2021.nc\", decode_times=True)\n",
    "ds_OSNAP_streamfunction = xr.open_dataset(\"/work/m2t/From_Rong/OSNAP_Streamfunction_201408_201805_2020_new.nc\", decode_times=True)\n",
    "Area=ds_OSNAP.AREA_OSNAP\n",
    "Time_OSNAP=ds_OSNAP.TIME_OSNAP\n",
    "depth_OSNAP=ds_OSNAP.DEPTH_OSNAP\n",
    "Transp_OSNAP=ds_OSNAP.VELO_OSNAP*Area\n",
    "TEMP_OSNAP=ds_OSNAP.TEMP_OSNAP\n",
    "PSAL_OSNAP=ds_OSNAP.PSAL_OSNAP\n",
    "PD_OSNAP = momlevel.derived.calc_rho(TEMP_OSNAP,PSAL_OSNAP,0)-1000\n",
    "earth_radius=6371  # in km\n",
    "section_gridwidth_OSNAP=earth_radius*sectionate.distance_on_unit_sphere(ds_OSNAP.LAT_OSNAP[0:-1],ds_OSNAP.LON_OSNAP.values[0:-1],ds_OSNAP.LAT_OSNAP[1:],ds_OSNAP.LON_OSNAP[1:])\n",
    "numpy_algo=False"
   ]
  },
  {
   "cell_type": "code",
   "execution_count": null,
   "id": "352c4d53-20a6-4a29-8b5e-183b29fda3e5",
   "metadata": {},
   "outputs": [],
   "source": [
    "# ### Select the OSNAP East section \n",
    "PD_OSNAP=PD_OSNAP.rename('rho')\n",
    "PD_OSNAP_east=PD_OSNAP.isel(x=slice(80,len(PD_OSNAP.x)))\n",
    "TEMP_OSNAP_east=TEMP_OSNAP.isel(x=slice(80,len(PD_OSNAP.x)))\n",
    "PSAL_OSNAP_east=PSAL_OSNAP.isel(x=slice(80,len(PD_OSNAP.x)))\n",
    "Area_east=Area.isel(x=slice(80,len(PD_OSNAP.x)))\n",
    "Transp_OSNAP_east=Transp_OSNAP.isel(x=slice(80,len(PD_OSNAP.x)))\n",
    "section_gridwidth_OSNAP_east=section_gridwidth_OSNAP.isel(x=slice(79,len(PD_OSNAP.x)))"
   ]
  },
  {
   "cell_type": "code",
   "execution_count": null,
   "id": "57671dce-abd7-491c-a134-fd5d73480155",
   "metadata": {},
   "outputs": [],
   "source": [
    "if numpy_algo:\n",
    "    depth_OSNAP=depth_OSNAP.values\n",
    "    PD_OSNAP_east=PD_OSNAP_east.values\n",
    "    TEMP_OSNAP_east=TEMP_OSNAP_east.values\n",
    "    PSAL_OSNAP_east=PSAL_OSNAP_east.values\n",
    "    Area_east=np.repeat(Area_east.values[np.newaxis,...],len(ds_OSNAP.TIME_OSNAP), axis=0)\n",
    "    Transp_OSNAP_east=Transp_OSNAP_east.values\n",
    "    section_gridwidth_OSNAP_east=section_gridwidth_OSNAP_east.values"
   ]
  },
  {
   "cell_type": "code",
   "execution_count": null,
   "id": "aa2bea62-7feb-4ec4-9f9d-d5d7cc464754",
   "metadata": {},
   "outputs": [],
   "source": [
    "### Calculate SigmaZ diagrams\n",
    "ty_z_rho_OSNAP_east, ty_z_rho_rebin_OSNAP_east, rho0_bounds, rho0_ref = SigmaZ_funcs.SigmaZ_diag_ComputeDiag(Transp_OSNAP_east,PD_OSNAP_east,rholims,depth_OSNAP,rebin_depth,nrho,z_layer_var='z',dist_var='x',numpy_algo=numpy_algo)"
   ]
  },
  {
   "cell_type": "code",
   "execution_count": null,
   "id": "b4e89bcd-49b5-481b-ada5-fb12a63263ab",
   "metadata": {},
   "outputs": [],
   "source": [
    "### Plot SigmaZ diagram and streamfunctions along OSNAP East\n",
    "AMOCz_east_OSNAP, AMOCrho_east_OSNAP, ty_z_east_OSNAP, ty_rho_east_OSNAP, AMOCz_east_OSNAP_ts, AMOCrho_east_OSNAP_ts = SigmaZ_funcs.SigmaZ_diag_PlotDiag(ty_z_rho_rebin_OSNAP_east*1030,rebin_depth,rho0_ref,rho0_bounds,numpy_algo=numpy_algo)"
   ]
  },
  {
   "cell_type": "code",
   "execution_count": null,
   "id": "6d4ee2cd-9367-48be-8f41-ceeb9ed65a74",
   "metadata": {},
   "outputs": [],
   "source": [
    "### Calculate Heat and Freshwater Transports along OSNAP East and West\n",
    "MOCsig_MHTMFT_OSNAP_east, MOCz_MHTMFT_OSNAP_east, MOCsigz_MHTMFT_OSNAP_east = SigmaZ_funcs.SigmaZ_diag_computeMFTMHT(Transp_OSNAP_east*1030,PSAL_OSNAP_east,TEMP_OSNAP_east,PD_OSNAP_east,Area_east,rho0_bounds,depth_OSNAP,rebin_depth=rebin_depth,z_dim='z',dist_var='x',plot_flag=True)"
   ]
  },
  {
   "cell_type": "code",
   "execution_count": null,
   "id": "4982c690-f0df-42cf-aa45-2b372eecaa9c",
   "metadata": {
    "tags": []
   },
   "outputs": [],
   "source": [
    "### SigmaZ plot, BUT of freshwater transport. \n",
    "### The equivalent plot for heat transport is done the same way -- change _MHT_ to _MFT_ and Vthetao_z_rho to Vso_z_rho  (and change some unit conversions)\n",
    "spec = gridspec.GridSpec(ncols=2, nrows=2,\n",
    "                         width_ratios=[1,2], wspace=0.3,\n",
    "                         hspace=0.3, height_ratios=[1, 2])\n",
    "Cp=3850\n",
    "fig = plt.figure(figsize=(10,8))\n",
    "ax0 = fig.add_subplot(spec[3])\n",
    "ch1=ax0.pcolormesh(rho0_bounds[0:-1],-rebin_depth,Cp*MOCsigz_MHTMFT_OSNAP_east.Vthetao_z_rho.mean(axis=0)/1e15,cmap='RdBu_r')\n",
    "ax0.set_title('Xsec heat transp. in Sigma-Z')\n",
    "ax0.set_xlabel('Sigma (kg/m3)')\n",
    "plt.xlim([26.5,28]), plt.ylim( [-4000,0] )\n",
    "box = ax0.get_position()\n",
    "ax0.set_position([box.x0*1, box.y0, box.width, box.height])\n",
    "axColor = plt.axes([box.x0*1 + box.width * 1.05, box.y0, 0.01, box.height])\n",
    "plt.colorbar(ch1, cax = axColor, orientation=\"vertical\")\n",
    "ax1 = fig.add_subplot(spec[1])\n",
    "ax1.plot(rho0_ref,MOCsig_MHTMFT_OSNAP_east.MHT_zonmean_rho.mean(axis=0)/1e15,label='TOTrho')\n",
    "ax1.plot(rho0_ref,MOCsig_MHTMFT_OSNAP_east.MHT_MOCrho.mean(axis=0)/1e15,label='MOCrho')\n",
    "ax1.plot(rho0_ref,MOCsig_MHTMFT_OSNAP_east.MHT_GYRErho.mean(axis=0)/1e15,label='GYRErho')\n",
    "ax1.legend(loc='lower left')\n",
    "ax1.set_title('Xsec heat transp. in Sigma')\n",
    "ax1.set_ylabel('MHT (PW)')\n",
    "plt.xlim([26.5,28]), #plt.ylim( [-2,2] )\n",
    "ax2 = fig.add_subplot(spec[2])\n",
    "ax2.plot(MOCz_MHTMFT_OSNAP_east.MHT_zonmean_z.mean(axis=0)/1e15,-rebin_depth)\n",
    "ax2.plot(MOCz_MHTMFT_OSNAP_east.MHT_MOCz.mean(axis=0)/1e15,-rebin_depth)\n",
    "ax2.plot(MOCz_MHTMFT_OSNAP_east.MHT_GYREz.mean(axis=0)/1e15,-rebin_depth)\n",
    "ax2.set_title('Xsec heat transp. in Z')\n",
    "ax2.set_xlabel('MHT (PW)')\n",
    "ax2.set_ylabel('z (m)')    \n",
    "plt.ylim([-4000,0]), #plt.xlim([-2,2]),"
   ]
  },
  {
   "cell_type": "code",
   "execution_count": null,
   "id": "0941305f-2c93-4619-ad0e-57a2e1216e76",
   "metadata": {},
   "outputs": [],
   "source": [
    "### Plot cross-sections of V, T, S and Rho along OSNAP East and West\n",
    "fig = plt.figure(figsize=(10,12))\n",
    "if numpy_algo: Area_east=Area_east[0,:,:]\n",
    "ax = fig.add_subplot(4,1,1)\n",
    "blah=ax.contourf(np.cumsum(section_gridwidth_OSNAP_east),-depth_OSNAP,Transp_OSNAP_east.mean(axis=0)/Area_east,levels=np.linspace(-.3,.3,num=31),extend='both',cmap='RdBu_r')\n",
    "plt.colorbar(blah)\n",
    "ax.set_title('velocity across OSNAP East')\n",
    "ax.set_ylabel('Depth (m)')\n",
    "plt.ylim([-4000,0])\n",
    "ax = fig.add_subplot(4,1,2)\n",
    "vlah=ax.contourf(np.cumsum(section_gridwidth_OSNAP_east),-depth_OSNAP,PD_OSNAP_east.mean(axis=0),levels=np.linspace(26,28,num=41))\n",
    "if numpy_algo==False: maxAMOC_contour=ax.contour(np.cumsum(section_gridwidth_OSNAP_east),-depth_OSNAP,PD_OSNAP_east.mean(axis=0),levels=[AMOCrho_east_OSNAP.mean('time').idxmax('rho_bin')],colors=[\"red\"])\n",
    "plt.colorbar(vlah)\n",
    "ax.set_title('Density along OSNAP East')\n",
    "ax.set_ylabel('Depth (m)')\n",
    "plt.ylim([-4000,0])\n",
    "ax = fig.add_subplot(4,1,3)\n",
    "blah=ax.contourf(np.cumsum(section_gridwidth_OSNAP_east),-depth_OSNAP,TEMP_OSNAP_east.mean(axis=0),levels=np.linspace(-1,12,num=27))\n",
    "plt.colorbar(blah)\n",
    "ax.set_title('Temperature along OSNAP East')\n",
    "ax.set_ylabel('Depth (m)')\n",
    "plt.ylim([-4000,0])\n",
    "ax = fig.add_subplot(4,1,4)\n",
    "blah=ax.contourf(np.cumsum(section_gridwidth_OSNAP_east),-depth_OSNAP,PSAL_OSNAP_east.mean(axis=0),levels=np.linspace(34,35.5,num=31),extend='both')\n",
    "plt.colorbar(blah)\n",
    "ax.set_title('Salinity along OSNAP East')\n",
    "ax.set_ylabel('Depth (m)')\n",
    "ax.set_xlabel('Distance')\n",
    "plt.ylim([-4000,0])"
   ]
  },
  {
   "cell_type": "code",
   "execution_count": null,
   "id": "58e2be50-c5d1-4722-b6bd-4fe41dcbdccb",
   "metadata": {},
   "outputs": [],
   "source": [
    "### Plot power spectral density of MOCrho\n",
    "if numpy_algo==False:\n",
    "    time_reg=np.arange(0,len(AMOCrho_east_OSNAP_ts.time))*30.417 # xrft doesn't work on irregularly-spaced coordinates, so we have to make a approximation for time that is regular\n",
    "    AMOCrho_east_OSNAP_ts['time']=time_reg\n",
    "    MOCrho_OSNAP_east_psd=xrft.xrft.power_spectrum(AMOCrho_east_OSNAP_ts/1030/1e6,detrend='linear')\n",
    "    wavenumber_cutoff=800 # days\n",
    "    plt.plot(1/MOCrho_OSNAP_east_psd.where(MOCrho_OSNAP_east_psd.freq_time>1/wavenumber_cutoff).freq_time,MOCrho_OSNAP_east_psd.where(MOCrho_OSNAP_east_psd.freq_time>1/wavenumber_cutoff))\n",
    "    plt.xlabel('wavenumber period (days)')\n",
    "    plt.ylabel('PSD')\n",
    "    plt.title('OSNAP East spectral density')"
   ]
  },
  {
   "cell_type": "code",
   "execution_count": null,
   "id": "cc8db749-7b34-4ba3-ab90-8ed40d10acda",
   "metadata": {},
   "outputs": [],
   "source": [
    "# Done!"
   ]
  }
 ],
 "metadata": {
  "kernelspec": {
   "display_name": "Python 3 (ipykernel)",
   "language": "python",
   "name": "python3"
  },
  "language_info": {
   "codemirror_mode": {
    "name": "ipython",
    "version": 3
   },
   "file_extension": ".py",
   "mimetype": "text/x-python",
   "name": "python",
   "nbconvert_exporter": "python",
   "pygments_lexer": "ipython3",
   "version": "3.9.16"
  }
 },
 "nbformat": 4,
 "nbformat_minor": 5
}
