{
 "cells": [
  {
   "cell_type": "code",
   "execution_count": null,
   "id": "7e5a86de-5881-471b-b706-218e35208fbd",
   "metadata": {},
   "outputs": [],
   "source": [
    "### This script calculates transport SigmaZ plots, AMOC streamfunctions and timeseries, \n",
    "### as well as SigmaZ diagrams for the MHT and MFT fields, and timeseries of MHT and MFT components. \n",
    "### Applied to all CM4 control runs"
   ]
  },
  {
   "cell_type": "markdown",
   "id": "3b04f84b-25f0-40ac-a738-95cb711f0d9b",
   "metadata": {},
   "source": [
    "# First apply the SigmaZ routines to model data:"
   ]
  },
  {
   "cell_type": "code",
   "execution_count": null,
   "id": "66b52b65-1af0-4930-8130-d9d9cbe751a5",
   "metadata": {},
   "outputs": [],
   "source": [
    "%matplotlib inline\n",
    "import sys\n",
    "sys.path.insert(0, '/home/Matthew.Thomas/python_code/python_pkgs/SigmaZ_diag/SigmaZ_diag')\n",
    "\n",
    "import xarray as xr\n",
    "import numpy as np\n",
    "import matplotlib.pyplot as plt\n",
    "from matplotlib import gridspec\n",
    "import cartopy.crs as ccrs\n",
    "from numba import njit\n",
    "import sectionate\n",
    "from glob import glob\n",
    "import momlevel\n",
    "import SigmaZ_funcs\n",
    "from xhistogram.xarray import histogram\n",
    "import xrft\n",
    "\n",
    "import warnings\n",
    "warnings.filterwarnings('ignore')"
   ]
  },
  {
   "cell_type": "markdown",
   "id": "2a3a9648-1f9b-4b92-93d4-14cddec87fb6",
   "metadata": {},
   "source": [
    "## Setup a dask server if needed:"
   ]
  },
  {
   "cell_type": "code",
   "execution_count": null,
   "id": "cbbfe163-f52e-4af2-9797-f1828e5389ec",
   "metadata": {
    "tags": []
   },
   "outputs": [],
   "source": [
    "# import dask\n",
    "# from dask.distributed import Client\n",
    "# from dask_jobqueue import SLURMCluster\n",
    "# dask.config.set(**{'array.slicing.split_large_chunks': False})\n",
    "\n",
    "# portdash = 18234\n",
    "\n",
    "# cluster = SLURMCluster(\n",
    "#     queue=\"batch\",\n",
    "#     cores=8,\n",
    "#     processes=4,\n",
    "#     project=\"gfdl_o\",\n",
    "#     memory=\"48GB\",\n",
    "#     walltime=\"6:00:00\",\n",
    "#     local_directory=\"$TMPDIR\",\n",
    "#     death_timeout=120,\n",
    "#     scheduler_options={\"dashboard_address\":f\":{portdash}\"},\n",
    "# )\n",
    "\n",
    "# client = Client(cluster)\n",
    "# client"
   ]
  },
  {
   "cell_type": "code",
   "execution_count": null,
   "id": "f350177f-b192-437e-b56a-9d9dafcb341d",
   "metadata": {
    "tags": []
   },
   "outputs": [],
   "source": [
    "# cluster.scale(jobs=10)"
   ]
  },
  {
   "cell_type": "markdown",
   "id": "8c03b3a4-5e7d-4669-945e-107d1aeabc9d",
   "metadata": {
    "tags": []
   },
   "source": [
    "## Dictionary of all cross sections to run the script on:"
   ]
  },
  {
   "cell_type": "code",
   "execution_count": null,
   "id": "98b9c121-7770-47fa-b198-cf56d3d600d2",
   "metadata": {},
   "outputs": [],
   "source": [
    "sections_dict = {\n",
    "                 'lat' : {'sect1' : tuple([52.0166, 52.6648, 53.5577, 58.8944, 60.4000]),\n",
    "                          'sect2' : tuple([60.3000, 58.8600, 58.0500, 58.0000, 56.5000])                          \n",
    "                          },\n",
    "                 'lon' : {'sect1' : tuple([-56.8775, -52.0956, -49.8604, -47.6107, -44.8000]),\n",
    "                          'sect2' : tuple([-44.9000, -30.5400, -28.0000, -14.7000, -5.9300])\n",
    "                          }\n",
    "                 }"
   ]
  },
  {
   "cell_type": "markdown",
   "id": "c8b46197-e323-4211-b481-e8f4f6bd8156",
   "metadata": {
    "tags": []
   },
   "source": [
    "## dictionary of all input variables for the different model runs to look at:"
   ]
  },
  {
   "cell_type": "code",
   "execution_count": null,
   "id": "ea7c995c-2899-4bf5-81fc-cbfbf7599a42",
   "metadata": {
    "tags": []
   },
   "outputs": [],
   "source": [
    "run_dict = {\n",
    "                'odiv209' : {\n",
    "                             'vars_path' : \"/archive/Raphael.Dussin/FMS2019.01.03_devgfdl_20210706/CM4_piControl_c192_OM4p125_v7/gfdl.ncrc4-intel18-prod-openmp/pp/ocean_month_z/ts/monthly/5yr/\",\n",
    "                             'grid_path' : \"/archive/Raphael.Dussin/FMS2019.01.03_devgfdl_20210706/CM4_piControl_c192_OM4p125_v7/gfdl.ncrc4-intel18-prod-openmp/pp/ocean_month_z/ocean_month_z.static.nc\",\n",
    "                             'file_str_identifier' : \"*\", # This is a linux-style search modifier for selecting files. The function will search for vars_path/file_str_identifier. E.g.: *.0[1-2]*.nc will search for /dir/of/vars/*.0[1-2]*.nc (all files from year 100 to 200)\n",
    "                             'z_layer_var' : \"z_l\",\n",
    "                             'z_inter_var' : \"z_i\", \n",
    "                             'color_identifier' : 'b',  # This is the color used for line plots \n",
    "                             },\n",
    "                'odiv230' : {\n",
    "                             'vars_path' : \"/archive/Raphael.Dussin/FMS2019.01.03_devgfdl_20221223/CM4_piControl_c192_OM4p25_v8/gfdl.ncrc4-intel18-prod-openmp/pp/ocean_monthly_z/ts/monthly/5yr/\",\n",
    "                             'grid_path' : \"/archive/Raphael.Dussin/FMS2019.01.03_devgfdl_20221223/CM4_piControl_c192_OM4p25_v8/gfdl.ncrc4-intel18-prod-openmp/pp/ocean_monthly_z/ocean_monthly_z.static.nc\",\n",
    "                             'file_str_identifier' : \"*\", \n",
    "                             'z_layer_var' : \"z_l\",\n",
    "                             'z_inter_var' : \"z_i\",\n",
    "                             'color_identifier' : 'yellow',\n",
    "                             },\n",
    "                'RDC_p25' : {\n",
    "                             'vars_path' : \"/archive/roz/cm2.hi/CM2.hi_Control_1990_E01_rs_wind_cars_woa_newtopog/gfdl.ncrc3-intel15-prod/pp/ocean/ts/monthly/5yr/\",\n",
    "                             'grid_path' : \"/archive/roz/cm2.hi/CM2.hi_Control_1990_E01_rs_wind_cars_woa_newtopog/gfdl.ncrc3-intel15-prod/pp/ocean/ocean.static.nc\",\n",
    "                             'file_str_identifier' : \"*.0076*\",\n",
    "                             'mom_gridwidth_algo' : False,\n",
    "                             'z_layer_var' : \"st_ocean\",\n",
    "                             'z_inter_var' : \"st_edges_ocean\",\n",
    "                             'u_transport_var' : \"tx_trans\",\n",
    "                             'v_transport_var' : \"ty_trans\",\n",
    "                             'theta_var' : \"temp\",\n",
    "                             'salt_var' : \"salt\",\n",
    "                             'x_hpoint_1Dvar' : \"xt_ocean\",\n",
    "                             'x_qpoint_1Dvar' : \"xu_ocean\",\n",
    "                             'y_hpoint_1Dvar' : \"yt_ocean\",\n",
    "                             'y_qpoint_1Dvar' : \"yu_ocean\",\n",
    "                             'lons_tpoint' : \"geolon_t\",\n",
    "                             'lats_tpoint' : \"geolat_t\",\n",
    "                             'lons_cpoint' : \"geolon_c\",\n",
    "                             'lats_cpoint' : \"geolat_c\",\n",
    "                             'color_identifier' : 'purple',   \n",
    "                             'min_sigma_cutoff' : 26.5,\n",
    "                             },\n",
    "                'odiv1' :   {\n",
    "                             'vars_path' : \"/archive/oar.gfdl.cmip6/CM4/warsaw_201710_om4_v1.0.1/CM4_piControl_C/gfdl.ncrc4-intel16-prod-openmp/pp/ocean_monthly_z/ts/monthly/5yr/\",\n",
    "                             'grid_path' : \"/archive/oar.gfdl.cmip6/CM4/warsaw_201710_om4_v1.0.1/CM4_piControl_C/gfdl.ncrc4-intel16-prod-openmp/pp/ocean_monthly_z/ocean_monthly_z.static.nc\",\n",
    "                             'mom_gridwidth_algo' : False,\n",
    "                             'file_str_identifier' : \"*.0[0-2]*\",\n",
    "                             'z_layer_var' : \"z_l\",\n",
    "                             'z_inter_var' : \"z_i\",\n",
    "                             'color_identifier' : 'r',\n",
    "                             'color_identifier' : 'pink',\n",
    "                             },\n",
    "                # # # '1deg_DA' : {\n",
    "                # # #              'vars_path' : \"/archive/Feiyu.Lu/SPEAR/SPEAR_c96_o1_ECDA_J11/pp_ensemble/ocean_z/ts/monthly/30yr/\",\n",
    "                # # #              'grid_path' : \"/archive/Feiyu.Lu/SPEAR/SPEAR_c96_o1_ECDA_J11/pp_ensemble/ocean_z/ocean_z.static.nc\",\n",
    "                # # #              'mom_gridwidth_algo' : False,\n",
    "                # # #              'z_layer_var' : \"z_l\",\n",
    "                # # #              'z_inter_var' : \"z_i\",\n",
    "                # # #              'time_limits' : ['2014','2020'], #use this date style if 'decode_times_flag'=True\n",
    "                # # #              'file_str_identifier' : \"*\",\n",
    "                # # #              'color_identifier' : 'brown',\n",
    "                # # #              },\n",
    "}"
   ]
  },
  {
   "cell_type": "markdown",
   "id": "57f24a95-96f2-4924-9357-e69f572bd605",
   "metadata": {},
   "source": [
    "## Load the data according to the input variables listed in the run_dict:"
   ]
  },
  {
   "cell_type": "code",
   "execution_count": null,
   "id": "7e1ca173-b094-4bb0-9c86-4ad423644ca9",
   "metadata": {},
   "outputs": [],
   "source": [
    "###  A few necessary variables:\n",
    "rholims=[21,28.1]; # Density range for the rebinning into the SigmaZ diagram\n",
    "nrho=500;  # number of density bins between the two rholims\n",
    "rebin_depth=np.arange(100,6600,100) # regularly spaced rebinned z-layers for the SigmaZ diagram"
   ]
  },
  {
   "cell_type": "code",
   "execution_count": null,
   "id": "3bb6a75d-714d-45ec-82d8-34999ad297f8",
   "metadata": {
    "tags": []
   },
   "outputs": [],
   "source": [
    "%%time\n",
    "\n",
    "dmgetout_flag = False\n",
    "zarr_dir='/xtmp/Matthew.Thomas/work'\n",
    "\n",
    "ComputeDiag_dict = {}\n",
    "if dmgetout_flag: print(f'run the following dmget commands:')\n",
    "for section in sections_dict['lat']:\n",
    "    ComputeDiag_dict[section]= {}\n",
    "    for keys in run_dict:\n",
    "        var_dict = {'numpy_algo' : False , 'mom_gridwidth_algo' : True , 'z_layer_var' : \"z_l\", 'z_inter_var' : \"z_i\" , 'plot_flag' : False, 'decode_times_flag' : True,  'load_var' : True, 'time_limits' : [], 'rho_var'  : \"\", 'salt_var' : 'so' , 'theta_var' : 'thetao' , 'years_choice_for_SigmaZ' : [],\n",
    "                    'u_transport_var' : \"umo\" , 'v_transport_var' : \"vmo\" , 'x_hpoint_1Dvar' : \"xh\" , 'x_qpoint_1Dvar' : \"xq\" , 'y_hpoint_1Dvar' : \"yh\" , 'y_qpoint_1Dvar' : \"yq\", 'lons_tpoint' : \"geolon\" , 'lats_tpoint' : \"geolat\" , 'lons_cpoint' : \"geolon_c\" , 'lats_cpoint' : \"geolat_c\", 'rho0' : 1030 , 'supergrid_flag' : False, 'calc_transp' : False, 'dir_deptho' : '', 'min_sigma_cutoff' : 26.5}\n",
    "\n",
    "        for key in run_dict[keys]: var_dict[key]=run_dict[keys][key]\n",
    "\n",
    "        dsT, transp, rho, xsec, ysec, cell_area, so, thetao, section_gridwidth, grid = SigmaZ_funcs.SigmaZ_diag_ReadData(var_dict['vars_path'],var_dict['grid_path'],sections_dict['lon'][section],sections_dict['lat'][section],var_dict['file_str_identifier'],rho_var=var_dict['rho_var'],theta_var=var_dict['theta_var'],salt_var=var_dict['salt_var'],z_layer_var=var_dict['z_layer_var'],z_inter_var=var_dict['z_inter_var'],u_transport_var=var_dict['u_transport_var'],v_transport_var=var_dict['v_transport_var'],time_limits=var_dict['time_limits'],x_hpoint_1Dvar=var_dict['x_hpoint_1Dvar'],x_qpoint_1Dvar=var_dict['x_qpoint_1Dvar'],y_hpoint_1Dvar=var_dict['y_hpoint_1Dvar'],y_qpoint_1Dvar=var_dict['y_qpoint_1Dvar'],lons_tpoint=var_dict['lons_tpoint'],lats_tpoint=var_dict['lats_tpoint'],lons_cpoint=var_dict['lons_cpoint'],lats_cpoint=var_dict['lats_cpoint'],dir_deptho=var_dict['dir_deptho'],mom_gridwidth_algo=var_dict['mom_gridwidth_algo'],decode_times_flag=var_dict['decode_times_flag'],supergrid_flag=var_dict['supergrid_flag'],calc_transp=var_dict['calc_transp'],dmgetout=dmgetout_flag,zarr_dir=zarr_dir)\n",
    "\n",
    "        if len(dsT)>0:\n",
    "            depth=dsT[var_dict['z_layer_var']]\n",
    "            \n",
    "            ### Load data into memory: can be commented out, but it makes things faster when the output is used in multiple different operations (which it is)\n",
    "            if var_dict['load_var']:\n",
    "                if var_dict['numpy_algo']:\n",
    "                    ### convert xarray output to numpy values (Ensure that matrix dimensions are (time,depth,dist))\n",
    "                    transp=transp.values\n",
    "                    rho=rho.values\n",
    "                    cell_area=np.repeat(np.expand_dims(cell_area.values,axis=0),np.shape(dsT.time)[0],axis=0)\n",
    "                    cell_area[np.isnan(cell_area)]=0\n",
    "                    depth=depth.values\n",
    "                    if var_dict['salt_var']: so=so.values\n",
    "                    if var_dict['theta_var']: thetao=thetao.values\n",
    "                else:\n",
    "                    transp=transp.load()\n",
    "                    rho=rho.load()\n",
    "                    cell_area=cell_area.load()\n",
    "                    if var_dict['salt_var']: so=so.load()\n",
    "                    if var_dict['theta_var']: thetao=thetao.load()\n",
    "                        \n",
    "            ty_z_rho, ty_z_rho_rebin, rho0_bounds, rho0_ref = SigmaZ_funcs.SigmaZ_diag_ComputeDiag(transp,rho,rholims,depth,rebin_depth,nrho,numpy_algo=var_dict['numpy_algo'],z_layer_var=var_dict['z_layer_var'])\n",
    "\n",
    "            AMOCz, AMOCrho, ty_z, ty_rho, AMOCz_ts, AMOCrho_ts = SigmaZ_funcs.SigmaZ_diag_PlotDiag(ty_z_rho_rebin,rebin_depth,rho0_ref,rho0_bounds,rho0=var_dict['rho0'],min_sigma_cutoff=var_dict['min_sigma_cutoff'],numpy_algo=var_dict['numpy_algo'],plot_flag=var_dict['plot_flag'])\n",
    "            \n",
    "            if var_dict['theta_var']:\n",
    "                MOCsig_MHTMFT, MOCz_MHTMFT, MOCsigz_MHTMFT = SigmaZ_funcs.SigmaZ_diag_computeMFTMHT(transp,so,thetao,rho,cell_area,rho0_bounds,depth,rebin_depth=rebin_depth,rho_dim='rho_bin',z_dim=var_dict['z_layer_var'],rho0=var_dict['rho0'],annual_mean_flag=False,plot_flag=var_dict['plot_flag'])\n",
    "\n",
    "            ComputeDiag_dict[section][keys]={'dsT' : dsT , 'transp' : transp, 'rho' : rho , 'xsec' : xsec , 'ysec' : ysec , 'cell_area' : cell_area , 'so' : so , 'thetao' : thetao , 'section_gridwidth' : section_gridwidth , 'grid' : grid,\n",
    "                                             'ty_z_rho' : ty_z_rho , 'ty_z_rho_rebin' : ty_z_rho_rebin, 'rho0_bounds' : rho0_bounds , 'rho0_ref' : rho0_ref,\n",
    "                                             'AMOCz' : AMOCz , 'AMOCrho' : AMOCrho, 'ty_z' : ty_z , 'ty_rho' : ty_rho , 'AMOCz_ts' : AMOCz_ts , 'AMOCrho_ts' : AMOCrho_ts,\n",
    "                                             'MOCsig_MHTMFT' : MOCsig_MHTMFT , 'MOCz_MHTMFT' : MOCz_MHTMFT , 'MOCsigz_MHTMFT' : MOCsigz_MHTMFT}        \n",
    "            \n",
    "            print(\"Finished with \"+keys)"
   ]
  },
  {
   "cell_type": "code",
   "execution_count": null,
   "id": "4a0bd1d9-ac28-45e7-91f7-c7d63b004bea",
   "metadata": {
    "tags": []
   },
   "outputs": [],
   "source": [
    "fig = plt.figure(figsize=(20,8))\n",
    "loopnum=0\n",
    "for section in sections_dict['lat']:\n",
    "    fig.add_subplot(1,len(sections_dict['lat'])+1,loopnum+1)\n",
    "    for keys in run_dict:\n",
    "        transport_scale = 1030*1e6 if abs(ComputeDiag_dict[section][keys]['AMOCrho'].mean('time')).max() > 1e8 else 1\n",
    "        (ComputeDiag_dict[section][keys]['AMOCrho'].mean('time')/transport_scale).plot(label=keys,y='rho_bin',ylim=[28,25],yincrease=False,color=run_dict[keys]['color_identifier'])\n",
    "    loopnum+=1\n",
    "    plt.legend()\n",
    "if loopnum>0:\n",
    "    if var_dict['numpy_algo']==False:\n",
    "        fig.add_subplot(1,len(sections_dict['lat'])+1,loopnum+1)\n",
    "        for keys in run_dict:\n",
    "            section_tot=0\n",
    "            for section in sections_dict['lat']:\n",
    "                transport_scale = 1030*1e6 if ComputeDiag_dict[section][keys]['AMOCrho'].mean('time').max() > 1e8 else 1\n",
    "                section_tot+=ComputeDiag_dict[section][keys]['AMOCrho']\n",
    "            (section_tot.mean(dim='time')/transport_scale).plot(label=keys,y='rho_bin',ylim=[28,25],yincrease=False,color=run_dict[keys]['color_identifier'])\n",
    "        plt.legend()"
   ]
  },
  {
   "cell_type": "code",
   "execution_count": null,
   "id": "81383daf-aebd-4f59-9954-a55ef0f1e828",
   "metadata": {
    "tags": []
   },
   "outputs": [],
   "source": [
    "smoothing_level=10 # in years\n",
    "fig = plt.figure(figsize=(25,8))\n",
    "loopnum=0\n",
    "for section in sections_dict['lat']:\n",
    "    fig.add_subplot(1,len(sections_dict['lat'])+1,loopnum+1)\n",
    "    for keys in run_dict:\n",
    "        transport_scale = 1030*1e6 if ComputeDiag_dict[section][keys]['AMOCrho_ts'].max() > 1e8 else 1\n",
    "        xsection=ComputeDiag_dict[section][keys]['AMOCrho']\n",
    "        (xsection/transport_scale).where(xsection['rho_bin']>26.5).max(dim='rho_bin').plot(alpha=.7,linewidth=.5,color=run_dict[keys]['color_identifier'])\n",
    "        (xsection/transport_scale).resample(time=\"Y\").mean().where(xsection['rho_bin']>26.5).max(dim='rho_bin').rolling(time=smoothing_level,center=True).mean().plot(label=keys,color=run_dict[keys]['color_identifier'])\n",
    "    loopnum+=1\n",
    "    plt.xlabel('years')\n",
    "    plt.legend()\n",
    "if loopnum>0:\n",
    "    if var_dict['numpy_algo']==False:\n",
    "        fig.add_subplot(1,len(sections_dict['lat'])+1,loopnum+1)\n",
    "        for keys in run_dict:\n",
    "            section_tot=0\n",
    "            for section in sections_dict['lat']:\n",
    "                transport_scale = 1030*1e6 if ComputeDiag_dict[section][keys]['AMOCrho_ts'].max() > 1e8 else 1\n",
    "                section_tot+=ComputeDiag_dict[section][keys]['AMOCrho']\n",
    "            # plt.plot((section_tot.time-section_tot.time[0])/360,section_tot.rolling(time=smoothing_level,center=True).mean().max(dim='rho_bin')/transport_scale,label=keys,color=run_dict[keys]['color_identifier'])\n",
    "            (section_tot/transport_scale).where(section_tot['rho_bin']>26.5).max(dim='rho_bin').plot(alpha=.7,linewidth=.5,color=run_dict[keys]['color_identifier'])\n",
    "            (section_tot/transport_scale).resample(time=\"Y\").mean().where(section_tot['rho_bin']>26.5).max(dim='rho_bin').rolling(time=smoothing_level,center=True).mean().plot(label=keys,color=run_dict[keys]['color_identifier'])\n",
    "        plt.legend()\n",
    "        plt.xlabel('years')"
   ]
  },
  {
   "cell_type": "markdown",
   "id": "e58fa6c8-13e4-44cd-8029-13c445922753",
   "metadata": {
    "tags": []
   },
   "source": [
    "# Now use the same functions on the OSNAP observational data:"
   ]
  },
  {
   "cell_type": "code",
   "execution_count": null,
   "id": "2e49cf7e-9733-4ea5-a555-f70daeb5aad0",
   "metadata": {},
   "outputs": [],
   "source": [
    "### Read in OSNAP Data:\n",
    "ds_OSNAP = xr.open_dataset(\"/home/Matthew.Thomas/work/OSNAP/OSNAP_Gridded_TSV_201408_201805_2021.nc\", decode_times=True)\n",
    "ds_OSNAP_streamfunction = xr.open_dataset(\"/work/m2t/From_Rong/OSNAP_Streamfunction_201408_201805_2020_new.nc\", decode_times=True)\n",
    "Area=ds_OSNAP.AREA_OSNAP\n",
    "Time_OSNAP=ds_OSNAP.TIME_OSNAP\n",
    "depth_OSNAP=ds_OSNAP.DEPTH_OSNAP\n",
    "Transp_OSNAP=ds_OSNAP.VELO_OSNAP*Area\n",
    "TEMP_OSNAP=ds_OSNAP.TEMP_OSNAP\n",
    "PSAL_OSNAP=ds_OSNAP.PSAL_OSNAP\n",
    "PD_OSNAP = momlevel.derived.calc_rho(TEMP_OSNAP,PSAL_OSNAP,0)-1000\n",
    "earth_radius=6371  # in km\n",
    "section_gridwidth_OSNAP=earth_radius*sectionate.distance_on_unit_sphere(ds_OSNAP.LAT_OSNAP[0:-1],ds_OSNAP.LON_OSNAP.values[0:-1],ds_OSNAP.LAT_OSNAP[1:],ds_OSNAP.LON_OSNAP[1:])\n",
    "numpy_algo=False"
   ]
  },
  {
   "cell_type": "code",
   "execution_count": null,
   "id": "57671dce-abd7-491c-a134-fd5d73480155",
   "metadata": {},
   "outputs": [],
   "source": [
    "PD_OSNAP=PD_OSNAP.rename('rho')\n",
    "if numpy_algo:\n",
    "    depth_OSNAP=depth_OSNAP.values\n",
    "    PD_OSNAP=PD_OSNAP.values\n",
    "    TEMP_OSNAP=TEMP_OSNAP.values\n",
    "    PSAL_OSNAP=PSAL_OSNAP.values\n",
    "    Area=np.repeat(Area.values[np.newaxis,...],len(ds_OSNAP.TIME_OSNAP), axis=0)\n",
    "    Transp_OSNAP=Transp_OSNAP.values\n",
    "    section_gridwidth_OSNAP=section_gridwidth_OSNAP.values"
   ]
  },
  {
   "cell_type": "code",
   "execution_count": null,
   "id": "2ef67177-ccb6-47f0-8579-af000c75d9b5",
   "metadata": {},
   "outputs": [],
   "source": [
    "obs_dict={\n",
    "          'sect1' : {},\n",
    "          'sect2' : {}\n",
    "          }"
   ]
  },
  {
   "cell_type": "code",
   "execution_count": null,
   "id": "3cd69b3f-76a5-49d5-b886-aebcd9081d05",
   "metadata": {},
   "outputs": [],
   "source": [
    "### Calculate SigmaZ diagrams for OSNAP west\n",
    "ty_z_rho, ty_z_rho_rebin, rho0_bounds, rho0_ref = SigmaZ_funcs.SigmaZ_diag_ComputeDiag(Transp_OSNAP.isel(x=slice(1,79)),PD_OSNAP.isel(x=slice(1,79)),rholims,depth_OSNAP,rebin_depth,nrho,z_layer_var='z',dist_var='x',numpy_algo=numpy_algo)\n",
    "### Plot SigmaZ diagram and streamfunctions along OSNAP\n",
    "AMOCz, AMOCrho, ty_z, ty_rho, AMOCz_ts, AMOCrho_ts = SigmaZ_funcs.SigmaZ_diag_PlotDiag(ty_z_rho_rebin*1030,rebin_depth,rho0_ref,rho0_bounds,numpy_algo=numpy_algo,plot_flag=False)\n",
    "### Calculate Heat and Freshwater Transports along OSNAP East and West\n",
    "MOCsig_MHTMFT, MOCz_MHTMFT, MOCsigz_MHTMFT = SigmaZ_funcs.SigmaZ_diag_computeMFTMHT(Transp_OSNAP.isel(x=slice(1,79))*1030,PSAL_OSNAP.isel(x=slice(1,79)),TEMP_OSNAP.isel(x=slice(1,79)),PD_OSNAP.isel(x=slice(1,79)),Area.isel(x=slice(1,79)),rho0_bounds,depth_OSNAP,rebin_depth=rebin_depth,z_dim='z',dist_var='x',plot_flag=False)\n",
    "obs_dict['sect1']={'ty_z_rho' : ty_z_rho, 'ty_z_rho_rebin' : ty_z_rho_rebin, 'rho0_bounds' : rho0_bounds, 'rho0_ref' : rho0_ref,\n",
    "                  'AMOCz' : AMOCz, 'AMOCrho' : AMOCrho, 'ty_z' : ty_z, 'ty_rho' : ty_rho, 'AMOCz_ts' : AMOCz_ts, 'AMOCrho_ts' : AMOCrho_ts,\n",
    "                  'MOCsig_MHTMFT' : MOCsig_MHTMFT, 'MOCz_MHTMFT' : MOCz_MHTMFT, 'MOCsigz_MHTMFT' : MOCsigz_MHTMFT,\n",
    "                  'PD_OSNAP' : PD_OSNAP.isel(x=slice(1,79)) , 'TEMP_OSNAP' : TEMP_OSNAP.isel(x=slice(1,79)) , 'PSAL_OSNAP' : PSAL_OSNAP.isel(x=slice(1,79)) , 'Transp_OSNAP' : Transp_OSNAP.isel(x=slice(1,79)) , 'Area' : Area.isel(x=slice(1,79)),\n",
    "                  'section_gridwidth_OSNAP' : section_gridwidth_OSNAP.isel(x=slice(79,len(PD_OSNAP.x)))}"
   ]
  },
  {
   "cell_type": "code",
   "execution_count": null,
   "id": "aa2bea62-7feb-4ec4-9f9d-d5d7cc464754",
   "metadata": {},
   "outputs": [],
   "source": [
    "### Calculate SigmaZ diagrams for OSNAP east\n",
    "ty_z_rho, ty_z_rho_rebin, rho0_bounds, rho0_ref = SigmaZ_funcs.SigmaZ_diag_ComputeDiag(Transp_OSNAP.isel(x=slice(80,len(PD_OSNAP.x))),PD_OSNAP.isel(x=slice(80,len(PD_OSNAP.x))),rholims,depth_OSNAP,rebin_depth,nrho,z_layer_var='z',dist_var='x',numpy_algo=numpy_algo)\n",
    "### Plot SigmaZ diagram and streamfunctions along OSNAP\n",
    "AMOCz, AMOCrho, ty_z, ty_rho, AMOCz_ts, AMOCrho_ts = SigmaZ_funcs.SigmaZ_diag_PlotDiag(ty_z_rho_rebin*1030,rebin_depth,rho0_ref,rho0_bounds,numpy_algo=numpy_algo,plot_flag=False)\n",
    "### Calculate Heat and Freshwater Transports along OSNAP East and West\n",
    "MOCsig_MHTMFT, MOCz_MHTMFT, MOCsigz_MHTMFT = SigmaZ_funcs.SigmaZ_diag_computeMFTMHT(Transp_OSNAP.isel(x=slice(80,len(PD_OSNAP.x)))*1030,PSAL_OSNAP.isel(x=slice(80,len(PD_OSNAP.x))),TEMP_OSNAP.isel(x=slice(80,len(PD_OSNAP.x))),PD_OSNAP.isel(x=slice(80,len(PD_OSNAP.x))),Area.isel(x=slice(80,len(PD_OSNAP.x))),rho0_bounds,depth_OSNAP,rebin_depth=rebin_depth,z_dim='z',dist_var='x',plot_flag=False)\n",
    "obs_dict['sect2']={'ty_z_rho' : ty_z_rho, 'ty_z_rho_rebin' : ty_z_rho_rebin, 'rho0_bounds' : rho0_bounds, 'rho0_ref' : rho0_ref,\n",
    "                  'AMOCz' : AMOCz, 'AMOCrho' : AMOCrho, 'ty_z' : ty_z, 'ty_rho' : ty_rho, 'AMOCz_ts' : AMOCz_ts, 'AMOCrho_ts' : AMOCrho_ts,\n",
    "                  'MOCsig_MHTMFT' : MOCsig_MHTMFT, 'MOCz_MHTMFT' : MOCz_MHTMFT, 'MOCsigz_MHTMFT' : MOCsigz_MHTMFT,\n",
    "                  'PD_OSNAP' : PD_OSNAP.isel(x=slice(80,len(PD_OSNAP.x))) , 'TEMP_OSNAP' : TEMP_OSNAP.isel(x=slice(80,len(PD_OSNAP.x))) , 'PSAL_OSNAP' : PSAL_OSNAP.isel(x=slice(80,len(PD_OSNAP.x))) , 'Transp_OSNAP' : Transp_OSNAP.isel(x=slice(80,len(PD_OSNAP.x))) , 'Area' : Area.isel(x=slice(80,len(PD_OSNAP.x))),\n",
    "                  'section_gridwidth_OSNAP' : section_gridwidth_OSNAP.isel(x=slice(79,len(PD_OSNAP.x)))}"
   ]
  },
  {
   "cell_type": "markdown",
   "id": "1ee0df69-5ca6-45da-bbdb-900d0d9c0eba",
   "metadata": {
    "tags": []
   },
   "source": [
    "# Now make some obs vs model comparison plots"
   ]
  },
  {
   "cell_type": "code",
   "execution_count": null,
   "id": "1c339a10-6bad-499c-81ad-0a013f517497",
   "metadata": {},
   "outputs": [],
   "source": [
    "fig = plt.figure(figsize=(14,6))\n",
    "subplot_count=0\n",
    "for secs in sections_dict['lat']:\n",
    "    fig.add_subplot(1,len(sections_dict['lat']),subplot_count+1)\n",
    "    (obs_dict[secs]['AMOCrho'].mean('time')/1e6/1035).plot(ylim=[28,25],y='rho_bin',label='obs',color='k')\n",
    "    for keys in run_dict:\n",
    "        transport_scale = 1030*1e6 if ComputeDiag_dict[section][keys]['AMOCrho'].max() > 1e8 else 1\n",
    "        (ComputeDiag_dict[secs][keys]['AMOCrho'].mean('time')/transport_scale).plot(ylim=[28,25],y='rho_bin',label=keys,color=run_dict[keys]['color_identifier'])\n",
    "    plt.legend()\n",
    "    plt.title('transport streamfunction along '+secs)\n",
    "    plt.xlabel('Sv')\n",
    "    subplot_count+=1"
   ]
  },
  {
   "cell_type": "code",
   "execution_count": null,
   "id": "f5f5753e-35b5-4056-8f79-7feaa2e4a52d",
   "metadata": {
    "tags": []
   },
   "outputs": [],
   "source": [
    "smoothing_level=10   # in years\n",
    "plot_variables=['MHT_sum','MHT_MOCrho_sum','MHT_GYRErho_sum']\n",
    "fig = plt.figure(figsize=(16,18))\n",
    "subplot_count=0\n",
    "for section_choice in sections_dict['lat']:\n",
    "    fig.add_subplot(len(plot_variables)+1,len(sections_dict['lat']),subplot_count+1)\n",
    "    obs_MOC=(obs_dict[section_choice]['MOCsig_MHTMFT']['MOCrho']/1e6/1030).rolling(time=12).mean()\n",
    "    obs_MOC['time']=obs_MOC['time']*30\n",
    "    start_dates=[]\n",
    "    end_dates=[]\n",
    "    for keys in run_dict:\n",
    "        (ComputeDiag_dict[section_choice][keys]['MOCsig_MHTMFT']['MOCrho']/1e6/1030).resample(time=\"Y\").mean().plot(alpha=.7,linewidth=.5,color=run_dict[keys]['color_identifier'])\n",
    "        (ComputeDiag_dict[section_choice][keys]['MOCsig_MHTMFT']['MOCrho']/1e6/1030).resample(time=\"Y\").mean().rolling(time=smoothing_level, center=True).mean().plot(label=keys,color=run_dict[keys]['color_identifier'])\n",
    "        if keys != 'RDC_p25': start_dates.append(ComputeDiag_dict[section_choice][keys]['MOCsig_MHTMFT'].time.values[0])\n",
    "        if keys != 'RDC_p25': end_dates.append(ComputeDiag_dict[section_choice][keys]['MOCsig_MHTMFT'].time.values[-1])\n",
    "    plt.title('ann. mean '+ComputeDiag_dict[section_choice][keys]['MOCsig_MHTMFT']['MOCrho'].long_name+'. '+section_choice)\n",
    "    plt.ylabel('Sv')\n",
    "    plt.fill_between([np.min(start_dates),np.max(end_dates)],obs_MOC.mean()-obs_MOC.std(), obs_MOC.mean()+obs_MOC.std(), alpha=0.2, label='obs (mean+/-std')\n",
    "    plt.legend()\n",
    "    \n",
    "    loopnum=1\n",
    "    for y in plot_variables:\n",
    "        fig.add_subplot(len(plot_variables)+1,len(sections_dict['lat']),(subplot_count+1)+(2*loopnum))\n",
    "        obs_MHT=(obs_dict[section_choice]['MOCsig_MHTMFT'][y]/1e15).rolling(time=12).mean()\n",
    "        obs_MHT['time']=obs_MHT['time']*30\n",
    "        for keys in run_dict:\n",
    "            (ComputeDiag_dict[section_choice][keys]['MOCsig_MHTMFT'][y]/1e15).resample(time=\"Y\").mean().plot(alpha=.7,linewidth=.5,color=run_dict[keys]['color_identifier'])\n",
    "            (ComputeDiag_dict[section_choice][keys]['MOCsig_MHTMFT'][y]/1e15).resample(time=\"Y\").mean().rolling(time=smoothing_level, center=True).mean().plot(label=keys,color=run_dict[keys]['color_identifier'])\n",
    "            # plt.plot((run_MHT.time-run_MHT.time[0])/360,run_MHT,label=keys,color=run_dict[keys]['color_identifier'])\n",
    "        plt.title('ann. mean '+ComputeDiag_dict[section_choice][keys]['MOCsig_MHTMFT'][y].long_name+'. '+section_choice)\n",
    "        plt.ylabel('PW')\n",
    "        loopnum+=1\n",
    "        plt.fill_between([np.min(start_dates),np.max(end_dates)],obs_MHT.mean()-obs_MHT.std(), obs_MHT.mean()+obs_MHT.std(), alpha=0.2, label='annual obs (mean+/-std')\n",
    "        plt.xlabel('time')\n",
    "    subplot_count+=1    "
   ]
  },
  {
   "cell_type": "markdown",
   "id": "d8afc285-ab0b-4c9f-827a-a775fc8f8cbf",
   "metadata": {
    "tags": []
   },
   "source": [
    "# Some additional comparison plots to observations, for a specified simulation and section choice (for all available variables, look at the descriptions of the output variables in SigmaZ_funcs.SigmaZ_diag_computeMFTMHT)"
   ]
  },
  {
   "cell_type": "markdown",
   "id": "d90fe26b-3df1-4f64-a0e5-8c76663799b6",
   "metadata": {
    "tags": []
   },
   "source": [
    "### Example 1: Model freshwater transports, plotted as a SigmaZ diagram:"
   ]
  },
  {
   "cell_type": "code",
   "execution_count": null,
   "id": "0b23893a-1af4-44c2-96db-4acf75591441",
   "metadata": {
    "tags": []
   },
   "outputs": [],
   "source": [
    "run_choice='odiv209'   # Choose a model\n",
    "section_choice='sect2'  # choose one of the sections"
   ]
  },
  {
   "cell_type": "code",
   "execution_count": null,
   "id": "d101ff1c-9ecc-4f20-923a-36b25c542945",
   "metadata": {},
   "outputs": [],
   "source": [
    "spec = gridspec.GridSpec(ncols=2, nrows=2,\n",
    "                         width_ratios=[1,2], wspace=0.3,\n",
    "                         hspace=0.3, height_ratios=[1, 2])\n",
    "fig = plt.figure(figsize=(10,8))\n",
    "ax0 = fig.add_subplot(spec[3])\n",
    "ch1=ax0.pcolormesh(ComputeDiag_dict[section_choice][run_choice]['rho0_bounds'][0:-1],-rebin_depth,ComputeDiag_dict[section_choice][run_choice]['MOCsigz_MHTMFT'].Vso_z_rho.mean(axis=0)/1035/1e6,vmin=-2.5e-3,vmax=2.5e-3,cmap='RdBu_r')\n",
    "ax0.set_title('Xsec FW transp. in Sigma-Z')\n",
    "ax0.set_xlabel('Sigma (kg/m3)')\n",
    "plt.xlim([26.5,28]), plt.ylim( [-4000,0] )\n",
    "box = ax0.get_position()\n",
    "ax0.set_position([box.x0*1, box.y0, box.width, box.height])\n",
    "axColor = plt.axes([box.x0*1 + box.width * 1.05, box.y0, 0.01, box.height])\n",
    "plt.colorbar(ch1, cax = axColor, orientation=\"vertical\")\n",
    "ax1 = fig.add_subplot(spec[1])\n",
    "ax1.plot(ComputeDiag_dict[section_choice][run_choice]['rho0_ref'],ComputeDiag_dict[section_choice][run_choice]['MOCsig_MHTMFT'].MFT_zonmean_rho.mean(axis=0)/1035/1e6,label='TOTrho')\n",
    "ax1.plot(ComputeDiag_dict[section_choice][run_choice]['rho0_ref'],ComputeDiag_dict[section_choice][run_choice]['MOCsig_MHTMFT'].MFT_MOCrho.mean(axis=0)/1035/1e6,label='MOCrho')\n",
    "ax1.plot(ComputeDiag_dict[section_choice][run_choice]['rho0_ref'],ComputeDiag_dict[section_choice][run_choice]['MOCsig_MHTMFT'].MFT_GYRErho.mean(axis=0)/1035/1e6,label='GYRErho')\n",
    "ax1.legend(loc='lower left')\n",
    "ax1.set_title('Xsec FW transp. in Sigma')\n",
    "ax1.set_ylabel('MFT (Sv)')\n",
    "plt.xlim([26.5,28]), #plt.ylim( [-2,2] )\n",
    "ax2 = fig.add_subplot(spec[2])\n",
    "ax2.plot(ComputeDiag_dict[section_choice][run_choice]['MOCz_MHTMFT'].MFT_zonmean_z.mean(axis=0)/1035/1e6,-rebin_depth)\n",
    "ax2.plot(ComputeDiag_dict[section_choice][run_choice]['MOCz_MHTMFT'].MFT_MOCz.mean(axis=0)/1035/1e6,-rebin_depth)\n",
    "ax2.plot(ComputeDiag_dict[section_choice][run_choice]['MOCz_MHTMFT'].MFT_GYREz.mean(axis=0)/1035/1e6,-rebin_depth)\n",
    "ax2.set_title('Xsec FW transp. in Z')\n",
    "ax2.set_xlabel('MFT (Sv)')\n",
    "ax2.set_ylabel('z (m)')    \n",
    "plt.ylim([-4000,0]), #plt.xlim([-2,2]),"
   ]
  },
  {
   "cell_type": "markdown",
   "id": "2f854d32-0989-4189-ba4e-eefb29a5b8ed",
   "metadata": {
    "tags": []
   },
   "source": [
    "### Example 1 continued: Observed freshwater transports, plotted as a SigmaZ diagram:"
   ]
  },
  {
   "cell_type": "code",
   "execution_count": null,
   "id": "8d6c8000-406e-41b5-a95c-c3537b69809a",
   "metadata": {},
   "outputs": [],
   "source": [
    "spec = gridspec.GridSpec(ncols=2, nrows=2,\n",
    "                         width_ratios=[1,2], wspace=0.3,\n",
    "                         hspace=0.3, height_ratios=[1, 2])\n",
    "fig = plt.figure(figsize=(10,8))\n",
    "ax0 = fig.add_subplot(spec[3])\n",
    "ch1=ax0.pcolormesh(rho0_bounds[0:-1],-rebin_depth,obs_dict[section_choice]['MOCsigz_MHTMFT'].Vso_z_rho.mean(axis=0)/1035/1e6,vmin=-2.5e-3,vmax=2.5e-3,cmap='RdBu_r')\n",
    "ax0.set_title('Xsec FW transp. in Sigma-Z')\n",
    "ax0.set_xlabel('Sigma (kg/m3)')\n",
    "plt.xlim([26.5,28]), plt.ylim( [-4000,0] )\n",
    "box = ax0.get_position()\n",
    "ax0.set_position([box.x0*1, box.y0, box.width, box.height])\n",
    "axColor = plt.axes([box.x0*1 + box.width * 1.05, box.y0, 0.01, box.height])\n",
    "plt.colorbar(ch1, cax = axColor, orientation=\"vertical\")\n",
    "ax1 = fig.add_subplot(spec[1])\n",
    "ax1.plot(rho0_ref,obs_dict[section_choice]['MOCsig_MHTMFT'].MFT_zonmean_rho.mean(axis=0)/1035/1e6,label='TOTrho')\n",
    "ax1.plot(rho0_ref,obs_dict[section_choice]['MOCsig_MHTMFT'].MFT_MOCrho.mean(axis=0)/1035/1e6,label='MOCrho')\n",
    "ax1.plot(rho0_ref,obs_dict[section_choice]['MOCsig_MHTMFT'].MFT_GYRErho.mean(axis=0)/1035/1e6,label='GYRErho')\n",
    "ax1.legend(loc='lower left')\n",
    "ax1.set_title('Xsec FW transp. in Sigma')\n",
    "ax1.set_ylabel('MFT (Sv)')\n",
    "plt.xlim([26.5,28]), #plt.ylim( [-2,2] )\n",
    "ax2 = fig.add_subplot(spec[2])\n",
    "ax2.plot(obs_dict[section_choice]['MOCz_MHTMFT'].MFT_zonmean_z.mean(axis=0)/1035/1e6,-rebin_depth)\n",
    "ax2.plot(obs_dict[section_choice]['MOCz_MHTMFT'].MFT_MOCz.mean(axis=0)/1035/1e6,-rebin_depth)\n",
    "ax2.plot(obs_dict[section_choice]['MOCz_MHTMFT'].MFT_GYREz.mean(axis=0)/1035/1e6,-rebin_depth)\n",
    "ax2.set_title('Xsec FW transp. in Z')\n",
    "ax2.set_xlabel('MFT (Sv)')\n",
    "ax2.set_ylabel('z (m)')    \n",
    "plt.ylim([-4000,0]), #plt.xlim([-2,2]),"
   ]
  },
  {
   "cell_type": "markdown",
   "id": "83297e64-b9bc-4638-b720-ca99c60d4314",
   "metadata": {
    "tags": []
   },
   "source": [
    "### Example 2: Model cross sections of V,T,S,rho:"
   ]
  },
  {
   "cell_type": "code",
   "execution_count": null,
   "id": "c2d5cce5-f8a4-476c-a45e-ed0f56953521",
   "metadata": {},
   "outputs": [],
   "source": [
    "### Plot the property cross-sections. If calc_rho_flag=False then it will only show V and rho\n",
    "if var_dict['numpy_algo']==False: \n",
    "    fig = plt.figure(figsize=(10,15))\n",
    "    ax = fig.add_subplot(4,1,1)\n",
    "    if var_dict['numpy_algo']: cell_area=cell_area[0,:,:]\n",
    "    (ComputeDiag_dict[section_choice][run_choice]['transp'].mean('time')/ComputeDiag_dict[section_choice][run_choice]['cell_area']/1035).plot(ylim=[4000,0],levels=np.linspace(-.3,.3,num=31))\n",
    "    ax.set_title(run_choice+' velocity across '+section_choice)\n",
    "    ax.set_ylabel('Depth (m)'), ax.set_xlabel('')\n",
    "    ax = fig.add_subplot(4,1,2)\n",
    "    dens_maxAMOC=ComputeDiag_dict[section_choice][run_choice]['AMOCrho'].mean('time').idxmax('rho_bin')\n",
    "    (ComputeDiag_dict[section_choice][run_choice]['rho'].mean('time')).plot(ylim=[4000,0],levels=np.linspace(26,28,num=41))\n",
    "    (ComputeDiag_dict[section_choice][run_choice]['rho'].mean('time')).plot.contour(ylim=[4000,0],levels=1,vmin=dens_maxAMOC,vmax=dens_maxAMOC,colors=['red'])\n",
    "    ax.set_title(run_choice+' Density along '+section_choice)\n",
    "    ax.set_ylabel('Depth (m)'), ax.set_xlabel('')\n",
    "    if var_dict['theta_var']:\n",
    "        ax = fig.add_subplot(4,1,3)\n",
    "        (ComputeDiag_dict[section_choice][run_choice]['thetao'].mean('time')).plot(ylim=[4000,0],levels=np.linspace(-1,12,num=32),cmap='viridis')\n",
    "        ax.set_title(run_choice+' Temperature along '+section_choice)\n",
    "        ax.set_ylabel('Depth (m)'), ax.set_xlabel('')\n",
    "    if var_dict['salt_var']:\n",
    "        ax = fig.add_subplot(4,1,4)\n",
    "        (ComputeDiag_dict[section_choice][run_choice]['so'].mean('time')).plot(ylim=[4000,0],levels=np.linspace(34,35.5,num=31),cmap='viridis')\n",
    "        ax.set_title(run_choice+' Salinity along '+section_choice)\n",
    "        ax.set_ylabel('Depth (m)')"
   ]
  },
  {
   "cell_type": "markdown",
   "id": "9090990c-20ff-4158-89bf-658fa5fa6727",
   "metadata": {},
   "source": [
    "### Example 2 continued: Observed cross sections of V,T,S,rho:"
   ]
  },
  {
   "cell_type": "code",
   "execution_count": null,
   "id": "0941305f-2c93-4619-ad0e-57a2e1216e76",
   "metadata": {},
   "outputs": [],
   "source": [
    "### Plot cross-sections of V, T, S and Rho along OSNAP East and West\n",
    "fig = plt.figure(figsize=(10,15))\n",
    "if numpy_algo: Area=Area[0,:,:]\n",
    "ax = fig.add_subplot(4,1,1)\n",
    "blah=ax.contourf(np.cumsum(obs_dict[section_choice]['section_gridwidth_OSNAP']),-depth_OSNAP,obs_dict[section_choice]['Transp_OSNAP'].mean('time')/obs_dict[section_choice]['Area'],levels=np.linspace(-.3,.3,num=31),extend='both',cmap='RdBu_r')\n",
    "plt.colorbar(blah)\n",
    "ax.set_title('velocity across OSNAP '+section_choice)\n",
    "ax.set_ylabel('Depth (m)')\n",
    "plt.ylim([-4000,0])\n",
    "ax = fig.add_subplot(4,1,2)\n",
    "vlah=ax.contourf(np.cumsum(obs_dict[section_choice]['section_gridwidth_OSNAP']),-depth_OSNAP,obs_dict[section_choice]['PD_OSNAP'].mean('time'),levels=np.linspace(26,28,num=41))\n",
    "if numpy_algo==False: maxAMOC_contour=ax.contour(np.cumsum(obs_dict[section_choice]['section_gridwidth_OSNAP']),-depth_OSNAP,obs_dict[section_choice]['PD_OSNAP'].mean('time'),levels=[obs_dict[section_choice]['AMOCrho'].mean('time').idxmax('rho_bin')],colors=[\"red\"])\n",
    "plt.colorbar(vlah)\n",
    "ax.set_title('Density along OSNAP '+section_choice)\n",
    "ax.set_ylabel('Depth (m)')\n",
    "plt.ylim([-4000,0])\n",
    "ax = fig.add_subplot(4,1,3)\n",
    "blah=ax.contourf(np.cumsum(obs_dict[section_choice]['section_gridwidth_OSNAP']),-depth_OSNAP,obs_dict[section_choice]['TEMP_OSNAP'].mean('time'),levels=np.linspace(-1,12,num=27))\n",
    "plt.colorbar(blah)\n",
    "ax.set_title('Temperature along OSNAP '+section_choice)\n",
    "ax.set_ylabel('Depth (m)')\n",
    "plt.ylim([-4000,0])\n",
    "ax = fig.add_subplot(4,1,4)\n",
    "blah=ax.contourf(np.cumsum(obs_dict[section_choice]['section_gridwidth_OSNAP']),-depth_OSNAP,obs_dict[section_choice]['PSAL_OSNAP'].mean('time'),levels=np.linspace(34,35.5,num=31),extend='both')\n",
    "plt.colorbar(blah)\n",
    "ax.set_title('Salinity along OSNAP '+section_choice)\n",
    "ax.set_ylabel('Depth (m)')\n",
    "ax.set_xlabel('Distance')\n",
    "plt.ylim([-4000,0])"
   ]
  },
  {
   "cell_type": "code",
   "execution_count": null,
   "id": "5d3cd544-4e64-4416-857c-a79c092ce97f",
   "metadata": {},
   "outputs": [],
   "source": [
    "# cluster.close()\n",
    "# client.close()"
   ]
  },
  {
   "cell_type": "code",
   "execution_count": null,
   "id": "952ad442-8030-4b53-b9bc-6f43a03f1a96",
   "metadata": {},
   "outputs": [],
   "source": [
    "# Done! "
   ]
  }
 ],
 "metadata": {
  "kernelspec": {
   "display_name": "Python 3 (ipykernel)",
   "language": "python",
   "name": "python3"
  },
  "language_info": {
   "codemirror_mode": {
    "name": "ipython",
    "version": 3
   },
   "file_extension": ".py",
   "mimetype": "text/x-python",
   "name": "python",
   "nbconvert_exporter": "python",
   "pygments_lexer": "ipython3",
   "version": "3.9.16"
  }
 },
 "nbformat": 4,
 "nbformat_minor": 5
}
